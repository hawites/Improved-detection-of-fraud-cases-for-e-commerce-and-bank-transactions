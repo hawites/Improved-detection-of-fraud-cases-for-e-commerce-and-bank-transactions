{
 "cells": [
  {
   "cell_type": "code",
   "execution_count": 3,
   "id": "3da44176-fb37-4e36-b79e-6f094d5798e6",
   "metadata": {},
   "outputs": [
    {
     "ename": "TypeError",
     "evalue": "Cannot cast array data from dtype('O') to dtype('float64') according to the rule 'safe'",
     "output_type": "error",
     "traceback": [
      "\u001b[31m---------------------------------------------------------------------------\u001b[39m",
      "\u001b[31mTypeError\u001b[39m                                 Traceback (most recent call last)",
      "\u001b[36mCell\u001b[39m\u001b[36m \u001b[39m\u001b[32mIn[3]\u001b[39m\u001b[32m, line 19\u001b[39m\n\u001b[32m     16\u001b[39m X = fraud_df.drop(columns=[\u001b[33m'\u001b[39m\u001b[33mclass\u001b[39m\u001b[33m'\u001b[39m, \u001b[33m'\u001b[39m\u001b[33msignup_time\u001b[39m\u001b[33m'\u001b[39m, \u001b[33m'\u001b[39m\u001b[33mpurchase_time\u001b[39m\u001b[33m'\u001b[39m, \u001b[33m'\u001b[39m\u001b[33mip_address\u001b[39m\u001b[33m'\u001b[39m, \u001b[33m'\u001b[39m\u001b[33mip_int\u001b[39m\u001b[33m'\u001b[39m, \u001b[33m'\u001b[39m\u001b[33muser_id\u001b[39m\u001b[33m'\u001b[39m, \u001b[33m'\u001b[39m\u001b[33mdevice_id\u001b[39m\u001b[33m'\u001b[39m, \u001b[33m'\u001b[39m\u001b[33mcountry\u001b[39m\u001b[33m'\u001b[39m])\n\u001b[32m     18\u001b[39m \u001b[38;5;66;03m# SHAP Explanation\u001b[39;00m\n\u001b[32m---> \u001b[39m\u001b[32m19\u001b[39m explainer = \u001b[43mSHAPExplainer\u001b[49m\u001b[43m(\u001b[49m\u001b[43mmodel\u001b[49m\u001b[43m,\u001b[49m\u001b[43m \u001b[49m\u001b[43mX\u001b[49m\u001b[43m)\u001b[49m\n\u001b[32m     20\u001b[39m explainer.compute_shap_values()\n\u001b[32m     21\u001b[39m explainer.plot_summary()\n",
      "\u001b[36mFile \u001b[39m\u001b[32m~\\Documents\\kaimm\\W8\\Improved-detection-of-fraud-cases-for-e-commerce-and-bank-transactions\\src\\shap_explainer.py:8\u001b[39m, in \u001b[36mSHAPExplainer.__init__\u001b[39m\u001b[34m(self, model, X_test)\u001b[39m\n\u001b[32m      6\u001b[39m \u001b[38;5;28mself\u001b[39m.model = model\n\u001b[32m      7\u001b[39m \u001b[38;5;28mself\u001b[39m.X_test = X_test\n\u001b[32m----> \u001b[39m\u001b[32m8\u001b[39m \u001b[38;5;28mself\u001b[39m.explainer = \u001b[43mshap\u001b[49m\u001b[43m.\u001b[49m\u001b[43mExplainer\u001b[49m\u001b[43m(\u001b[49m\u001b[38;5;28;43mself\u001b[39;49m\u001b[43m.\u001b[49m\u001b[43mmodel\u001b[49m\u001b[43m,\u001b[49m\u001b[43m \u001b[49m\u001b[38;5;28;43mself\u001b[39;49m\u001b[43m.\u001b[49m\u001b[43mX_test\u001b[49m\u001b[43m)\u001b[49m\n\u001b[32m      9\u001b[39m \u001b[38;5;28mself\u001b[39m.shap_values = \u001b[38;5;28;01mNone\u001b[39;00m\n",
      "\u001b[36mFile \u001b[39m\u001b[32m~\\Documents\\kaimm\\W8\\Improved-detection-of-fraud-cases-for-e-commerce-and-bank-transactions\\venv\\Lib\\site-packages\\shap\\explainers\\_explainer.py:249\u001b[39m, in \u001b[36mExplainer.__init__\u001b[39m\u001b[34m(self, model, masker, link, algorithm, output_names, feature_names, linearize_link, seed, **kwargs)\u001b[39m\n\u001b[32m    247\u001b[39m \u001b[38;5;28;01melif\u001b[39;00m algorithm == \u001b[33m\"\u001b[39m\u001b[33mtree\u001b[39m\u001b[33m\"\u001b[39m:\n\u001b[32m    248\u001b[39m     \u001b[38;5;28mself\u001b[39m.\u001b[34m__class__\u001b[39m = explainers.TreeExplainer\n\u001b[32m--> \u001b[39m\u001b[32m249\u001b[39m     \u001b[43mexplainers\u001b[49m\u001b[43m.\u001b[49m\u001b[43mTreeExplainer\u001b[49m\u001b[43m.\u001b[49m\u001b[34;43m__init__\u001b[39;49m\u001b[43m(\u001b[49m\n\u001b[32m    250\u001b[39m \u001b[43m        \u001b[49m\u001b[38;5;28;43mself\u001b[39;49m\u001b[43m,\u001b[49m\n\u001b[32m    251\u001b[39m \u001b[43m        \u001b[49m\u001b[38;5;28;43mself\u001b[39;49m\u001b[43m.\u001b[49m\u001b[43mmodel\u001b[49m\u001b[43m,\u001b[49m\n\u001b[32m    252\u001b[39m \u001b[43m        \u001b[49m\u001b[38;5;28;43mself\u001b[39;49m\u001b[43m.\u001b[49m\u001b[43mmasker\u001b[49m\u001b[43m,\u001b[49m\n\u001b[32m    253\u001b[39m \u001b[43m        \u001b[49m\u001b[43mlink\u001b[49m\u001b[43m=\u001b[49m\u001b[38;5;28;43mself\u001b[39;49m\u001b[43m.\u001b[49m\u001b[43mlink\u001b[49m\u001b[43m,\u001b[49m\n\u001b[32m    254\u001b[39m \u001b[43m        \u001b[49m\u001b[43mfeature_names\u001b[49m\u001b[43m=\u001b[49m\u001b[38;5;28;43mself\u001b[39;49m\u001b[43m.\u001b[49m\u001b[43mfeature_names\u001b[49m\u001b[43m,\u001b[49m\n\u001b[32m    255\u001b[39m \u001b[43m        \u001b[49m\u001b[43mlinearize_link\u001b[49m\u001b[43m=\u001b[49m\u001b[43mlinearize_link\u001b[49m\u001b[43m,\u001b[49m\n\u001b[32m    256\u001b[39m \u001b[43m        \u001b[49m\u001b[43m*\u001b[49m\u001b[43m*\u001b[49m\u001b[43mkwargs\u001b[49m\u001b[43m,\u001b[49m\n\u001b[32m    257\u001b[39m \u001b[43m    \u001b[49m\u001b[43m)\u001b[49m\n\u001b[32m    258\u001b[39m \u001b[38;5;28;01melif\u001b[39;00m algorithm == \u001b[33m\"\u001b[39m\u001b[33madditive\u001b[39m\u001b[33m\"\u001b[39m:\n\u001b[32m    259\u001b[39m     \u001b[38;5;28mself\u001b[39m.\u001b[34m__class__\u001b[39m = explainers.AdditiveExplainer\n",
      "\u001b[36mFile \u001b[39m\u001b[32m~\\Documents\\kaimm\\W8\\Improved-detection-of-fraud-cases-for-e-commerce-and-bank-transactions\\venv\\Lib\\site-packages\\shap\\explainers\\_tree.py:278\u001b[39m, in \u001b[36mTreeExplainer.__init__\u001b[39m\u001b[34m(self, model, data, model_output, feature_perturbation, feature_names, approximate, link, linearize_link)\u001b[39m\n\u001b[32m    276\u001b[39m \u001b[38;5;28mself\u001b[39m.feature_perturbation = feature_perturbation\n\u001b[32m    277\u001b[39m \u001b[38;5;28mself\u001b[39m.expected_value = \u001b[38;5;28;01mNone\u001b[39;00m\n\u001b[32m--> \u001b[39m\u001b[32m278\u001b[39m \u001b[38;5;28mself\u001b[39m.model = \u001b[43mTreeEnsemble\u001b[49m\u001b[43m(\u001b[49m\u001b[43mmodel\u001b[49m\u001b[43m,\u001b[49m\u001b[43m \u001b[49m\u001b[38;5;28;43mself\u001b[39;49m\u001b[43m.\u001b[49m\u001b[43mdata\u001b[49m\u001b[43m,\u001b[49m\u001b[43m \u001b[49m\u001b[38;5;28;43mself\u001b[39;49m\u001b[43m.\u001b[49m\u001b[43mdata_missing\u001b[49m\u001b[43m,\u001b[49m\u001b[43m \u001b[49m\u001b[43mmodel_output\u001b[49m\u001b[43m)\u001b[49m\n\u001b[32m    279\u001b[39m \u001b[38;5;28mself\u001b[39m.model_output = model_output\n\u001b[32m    280\u001b[39m \u001b[38;5;66;03m# self.model_output = self.model.model_output # this allows the TreeEnsemble to translate model outputs types by how it loads the model\u001b[39;00m\n\u001b[32m    281\u001b[39m \n\u001b[32m    282\u001b[39m \u001b[38;5;66;03m# check for unsupported combinations of feature_perturbation and model_outputs\u001b[39;00m\n",
      "\u001b[36mFile \u001b[39m\u001b[32m~\\Documents\\kaimm\\W8\\Improved-detection-of-fraud-cases-for-e-commerce-and-bank-transactions\\venv\\Lib\\site-packages\\shap\\explainers\\_tree.py:1255\u001b[39m, in \u001b[36mTreeEnsemble.__init__\u001b[39m\u001b[34m(self, model, data, data_missing, model_output)\u001b[39m\n\u001b[32m   1253\u001b[39m \u001b[38;5;28mself\u001b[39m.input_dtype = np.float32\n\u001b[32m   1254\u001b[39m \u001b[38;5;28mself\u001b[39m.original_model = model.get_booster()\n\u001b[32m-> \u001b[39m\u001b[32m1255\u001b[39m \u001b[38;5;28;43mself\u001b[39;49m\u001b[43m.\u001b[49m\u001b[43m_set_xgboost_model_attributes\u001b[49m\u001b[43m(\u001b[49m\n\u001b[32m   1256\u001b[39m \u001b[43m    \u001b[49m\u001b[43mdata\u001b[49m\u001b[43m,\u001b[49m\n\u001b[32m   1257\u001b[39m \u001b[43m    \u001b[49m\u001b[43mdata_missing\u001b[49m\u001b[43m,\u001b[49m\n\u001b[32m   1258\u001b[39m \u001b[43m    \u001b[49m\u001b[43mobjective_name_map\u001b[49m\u001b[43m,\u001b[49m\n\u001b[32m   1259\u001b[39m \u001b[43m    \u001b[49m\u001b[43mtree_output_name_map\u001b[49m\u001b[43m,\u001b[49m\n\u001b[32m   1260\u001b[39m \u001b[43m\u001b[49m\u001b[43m)\u001b[49m\n\u001b[32m   1262\u001b[39m \u001b[38;5;28;01mif\u001b[39;00m \u001b[38;5;28mself\u001b[39m.model_output == \u001b[33m\"\u001b[39m\u001b[33mpredict_proba\u001b[39m\u001b[33m\"\u001b[39m:\n\u001b[32m   1263\u001b[39m     \u001b[38;5;28;01mif\u001b[39;00m \u001b[38;5;28mself\u001b[39m.num_stacked_models == \u001b[32m1\u001b[39m:\n\u001b[32m   1264\u001b[39m         \u001b[38;5;66;03m# with predict_proba we need to double the outputs to match\u001b[39;00m\n",
      "\u001b[36mFile \u001b[39m\u001b[32m~\\Documents\\kaimm\\W8\\Improved-detection-of-fraud-cases-for-e-commerce-and-bank-transactions\\venv\\Lib\\site-packages\\shap\\explainers\\_tree.py:1500\u001b[39m, in \u001b[36mTreeEnsemble._set_xgboost_model_attributes\u001b[39m\u001b[34m(self, data, data_missing, objective_name_map, tree_output_name_map)\u001b[39m\n\u001b[32m   1497\u001b[39m \u001b[38;5;28mself\u001b[39m.model_type = \u001b[33m\"\u001b[39m\u001b[33mxgboost\u001b[39m\u001b[33m\"\u001b[39m\n\u001b[32m   1498\u001b[39m loader = XGBTreeModelLoader(\u001b[38;5;28mself\u001b[39m.original_model)\n\u001b[32m-> \u001b[39m\u001b[32m1500\u001b[39m \u001b[38;5;28mself\u001b[39m.trees = \u001b[43mloader\u001b[49m\u001b[43m.\u001b[49m\u001b[43mget_trees\u001b[49m\u001b[43m(\u001b[49m\u001b[43mdata\u001b[49m\u001b[43m=\u001b[49m\u001b[43mdata\u001b[49m\u001b[43m,\u001b[49m\u001b[43m \u001b[49m\u001b[43mdata_missing\u001b[49m\u001b[43m=\u001b[49m\u001b[43mdata_missing\u001b[49m\u001b[43m)\u001b[49m\n\u001b[32m   1501\u001b[39m \u001b[38;5;28mself\u001b[39m.base_offset = loader.base_score\n\u001b[32m   1502\u001b[39m \u001b[38;5;28mself\u001b[39m.objective = objective_name_map.get(loader.name_obj, \u001b[38;5;28;01mNone\u001b[39;00m)\n",
      "\u001b[36mFile \u001b[39m\u001b[32m~\\Documents\\kaimm\\W8\\Improved-detection-of-fraud-cases-for-e-commerce-and-bank-transactions\\venv\\Lib\\site-packages\\shap\\explainers\\_tree.py:2239\u001b[39m, in \u001b[36mXGBTreeModelLoader.get_trees\u001b[39m\u001b[34m(self, data, data_missing)\u001b[39m\n\u001b[32m   2229\u001b[39m \u001b[38;5;28;01mfor\u001b[39;00m i \u001b[38;5;129;01min\u001b[39;00m \u001b[38;5;28mrange\u001b[39m(\u001b[38;5;28mself\u001b[39m.num_trees):\n\u001b[32m   2230\u001b[39m     info = {\n\u001b[32m   2231\u001b[39m         \u001b[33m\"\u001b[39m\u001b[33mchildren_left\u001b[39m\u001b[33m\"\u001b[39m: \u001b[38;5;28mself\u001b[39m.node_cleft[i],\n\u001b[32m   2232\u001b[39m         \u001b[33m\"\u001b[39m\u001b[33mchildren_right\u001b[39m\u001b[33m\"\u001b[39m: \u001b[38;5;28mself\u001b[39m.node_cright[i],\n\u001b[32m   (...)\u001b[39m\u001b[32m   2237\u001b[39m         \u001b[33m\"\u001b[39m\u001b[33mnode_sample_weight\u001b[39m\u001b[33m\"\u001b[39m: \u001b[38;5;28mself\u001b[39m.sum_hess[i],\n\u001b[32m   2238\u001b[39m     }\n\u001b[32m-> \u001b[39m\u001b[32m2239\u001b[39m     trees.append(\u001b[43mSingleTree\u001b[49m\u001b[43m(\u001b[49m\u001b[43minfo\u001b[49m\u001b[43m,\u001b[49m\u001b[43m \u001b[49m\u001b[43mdata\u001b[49m\u001b[43m=\u001b[49m\u001b[43mdata\u001b[49m\u001b[43m,\u001b[49m\u001b[43m \u001b[49m\u001b[43mdata_missing\u001b[49m\u001b[43m=\u001b[49m\u001b[43mdata_missing\u001b[49m\u001b[43m)\u001b[49m)\n\u001b[32m   2240\u001b[39m \u001b[38;5;28;01mreturn\u001b[39;00m trees\n",
      "\u001b[36mFile \u001b[39m\u001b[32m~\\Documents\\kaimm\\W8\\Improved-detection-of-fraud-cases-for-e-commerce-and-bank-transactions\\venv\\Lib\\site-packages\\shap\\explainers\\_tree.py:1971\u001b[39m, in \u001b[36mSingleTree.__init__\u001b[39m\u001b[34m(self, tree, normalize, scaling, data, data_missing)\u001b[39m\n\u001b[32m   1969\u001b[39m \u001b[38;5;28;01mif\u001b[39;00m data \u001b[38;5;129;01mis\u001b[39;00m \u001b[38;5;129;01mnot\u001b[39;00m \u001b[38;5;28;01mNone\u001b[39;00m \u001b[38;5;129;01mand\u001b[39;00m data_missing \u001b[38;5;129;01mis\u001b[39;00m \u001b[38;5;129;01mnot\u001b[39;00m \u001b[38;5;28;01mNone\u001b[39;00m:\n\u001b[32m   1970\u001b[39m     \u001b[38;5;28mself\u001b[39m.node_sample_weight.fill(\u001b[32m0.0\u001b[39m)\n\u001b[32m-> \u001b[39m\u001b[32m1971\u001b[39m     \u001b[43m_cext\u001b[49m\u001b[43m.\u001b[49m\u001b[43mdense_tree_update_weights\u001b[49m\u001b[43m(\u001b[49m\n\u001b[32m   1972\u001b[39m \u001b[43m        \u001b[49m\u001b[38;5;28;43mself\u001b[39;49m\u001b[43m.\u001b[49m\u001b[43mchildren_left\u001b[49m\u001b[43m,\u001b[49m\n\u001b[32m   1973\u001b[39m \u001b[43m        \u001b[49m\u001b[38;5;28;43mself\u001b[39;49m\u001b[43m.\u001b[49m\u001b[43mchildren_right\u001b[49m\u001b[43m,\u001b[49m\n\u001b[32m   1974\u001b[39m \u001b[43m        \u001b[49m\u001b[38;5;28;43mself\u001b[39;49m\u001b[43m.\u001b[49m\u001b[43mchildren_default\u001b[49m\u001b[43m,\u001b[49m\n\u001b[32m   1975\u001b[39m \u001b[43m        \u001b[49m\u001b[38;5;28;43mself\u001b[39;49m\u001b[43m.\u001b[49m\u001b[43mfeatures\u001b[49m\u001b[43m,\u001b[49m\n\u001b[32m   1976\u001b[39m \u001b[43m        \u001b[49m\u001b[38;5;28;43mself\u001b[39;49m\u001b[43m.\u001b[49m\u001b[43mthresholds\u001b[49m\u001b[43m,\u001b[49m\n\u001b[32m   1977\u001b[39m \u001b[43m        \u001b[49m\u001b[38;5;28;43mself\u001b[39;49m\u001b[43m.\u001b[49m\u001b[43mvalues\u001b[49m\u001b[43m,\u001b[49m\n\u001b[32m   1978\u001b[39m \u001b[43m        \u001b[49m\u001b[32;43m1\u001b[39;49m\u001b[43m,\u001b[49m\n\u001b[32m   1979\u001b[39m \u001b[43m        \u001b[49m\u001b[38;5;28;43mself\u001b[39;49m\u001b[43m.\u001b[49m\u001b[43mnode_sample_weight\u001b[49m\u001b[43m,\u001b[49m\n\u001b[32m   1980\u001b[39m \u001b[43m        \u001b[49m\u001b[43mdata\u001b[49m\u001b[43m,\u001b[49m\n\u001b[32m   1981\u001b[39m \u001b[43m        \u001b[49m\u001b[43mdata_missing\u001b[49m\u001b[43m,\u001b[49m\n\u001b[32m   1982\u001b[39m \u001b[43m    \u001b[49m\u001b[43m)\u001b[49m\n\u001b[32m   1984\u001b[39m \u001b[38;5;66;03m# we compute the expectations to make sure they follow the SHAP logic\u001b[39;00m\n\u001b[32m   1985\u001b[39m \u001b[38;5;28mself\u001b[39m.max_depth = _cext.compute_expectations(\n\u001b[32m   1986\u001b[39m     \u001b[38;5;28mself\u001b[39m.children_left, \u001b[38;5;28mself\u001b[39m.children_right, \u001b[38;5;28mself\u001b[39m.node_sample_weight, \u001b[38;5;28mself\u001b[39m.values\n\u001b[32m   1987\u001b[39m )\n",
      "\u001b[31mTypeError\u001b[39m: Cannot cast array data from dtype('O') to dtype('float64') according to the rule 'safe'"
     ]
    }
   ],
   "source": [
    "import pandas as pd\n",
    "import joblib\n",
    "import os\n",
    "import sys\n",
    "import importlib\n",
    "sys.path.append(os.path.abspath(\"..\"))\n",
    "import src.shap_explainer\n",
    "importlib.reload(src.shap_explainer)\n",
    "from src.shap_explainer import SHAPExplainer\n",
    "\n",
    "# Load your best-performing model (replace with correct path)\n",
    "model = joblib.load('../models/xgboost_fraud_model.pkl')\n",
    "\n",
    "# Load the training data (same used to train the model)\n",
    "fraud_df = pd.read_csv('../data/processed_fraud_data.csv')  # should match your task 2 processed data\n",
    "X = fraud_df.drop(columns=['class', 'signup_time', 'purchase_time', 'ip_address', 'ip_int', 'user_id', 'device_id', 'country'])\n",
    "\n",
    "# SHAP Explanation\n",
    "explainer = SHAPExplainer(model, X)\n",
    "explainer.compute_shap_values()\n",
    "explainer.plot_summary()\n",
    "explainer.plot_force(index=0)\n"
   ]
  },
  {
   "cell_type": "code",
   "execution_count": null,
   "id": "95e82f4c-f462-4e57-99a1-f1d06cf2f658",
   "metadata": {},
   "outputs": [],
   "source": []
  }
 ],
 "metadata": {
  "kernelspec": {
   "display_name": "Python 3 (ipykernel)",
   "language": "python",
   "name": "python3"
  },
  "language_info": {
   "codemirror_mode": {
    "name": "ipython",
    "version": 3
   },
   "file_extension": ".py",
   "mimetype": "text/x-python",
   "name": "python",
   "nbconvert_exporter": "python",
   "pygments_lexer": "ipython3",
   "version": "3.13.0"
  }
 },
 "nbformat": 4,
 "nbformat_minor": 5
}
